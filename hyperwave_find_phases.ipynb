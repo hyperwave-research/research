{
 "cells": [
  {
   "cell_type": "markdown",
   "metadata": {
    "collapsed": true
   },
   "source": [
    "# This is  a research notebook to try to find correlation between hyperwave and volume "
   ]
  },
  {
   "cell_type": "code",
   "execution_count": null,
   "metadata": {},
   "outputs": [],
   "source": [
    "# !pip install --upgrade pip"
   ]
  },
  {
   "cell_type": "code",
   "execution_count": 1,
   "metadata": {},
   "outputs": [
    {
     "name": "stderr",
     "output_type": "stream",
     "text": [
      "/home/nbuser/anaconda3_501/lib/python3.6/importlib/_bootstrap.py:219: RuntimeWarning: numpy.dtype size changed, may indicate binary incompatibility. Expected 96, got 88\n",
      "  return f(*args, **kwds)\n",
      "/home/nbuser/anaconda3_501/lib/python3.6/importlib/_bootstrap.py:219: RuntimeWarning: numpy.dtype size changed, may indicate binary incompatibility. Expected 96, got 88\n",
      "  return f(*args, **kwds)\n"
     ]
    }
   ],
   "source": [
    "from datetime import datetime\n",
    "import pandas as pd\n",
    "import numpy as np\n",
    "import plotly.plotly as py\n",
    "import plotly.graph_objs as go\n",
    "import plotly\n",
    "plotly.tools.set_credentials_file(username='davzucky', api_key='aZw7LRJOSDcPJyIk2G0U')"
   ]
  },
  {
   "cell_type": "markdown",
   "metadata": {},
   "source": [
    "## This is the place where you setup the symbol and phases"
   ]
  },
  {
   "cell_type": "code",
   "execution_count": 2,
   "metadata": {},
   "outputs": [],
   "source": [
    "data_3DSystemsCorp ={\n",
    "    'name':'3D SYSTEMS CORP',\n",
    "    'symbol':'DDD',\n",
    "    'price_range_size':5,\n",
    "    'phases':{\n",
    "        \"phase1\":(datetime(2000, 1, 1), datetime(2012, 5, 14)),\n",
    "        \"phase2\":(datetime(2012, 5, 14), datetime(2013, 3, 18)),\n",
    "        \"phase3\":(datetime(2013, 3, 18), datetime(2013, 10, 7)),\n",
    "        \"phase4\":(datetime(2013, 10, 7), datetime(2014, 1, 14)),\n",
    "        \"phase5\":(datetime(2014, 1, 14), datetime(2014, 5, 5)),\n",
    "        \"phase6\":(datetime(2014, 5, 5), datetime(2014, 7, 7)),\n",
    "        \"phase7\":(datetime(2014, 7, 7) , datetime(2015, 7, 6))\n",
    "    }\n",
    "}\n",
    "\n",
    "\n",
    "data_Valeant = {\n",
    "    'name':'Baush health Company. Ex Valeant',\n",
    "    'symbol':'VRX',\n",
    "    'price_range_size':10,\n",
    "    'phases':{\n",
    "        \"phase1\":(datetime(2008, 3, 10), datetime(2010, 6, 21)),\n",
    "        \"phase2\":(datetime(2010, 6, 21), datetime(2012, 7, 9)),\n",
    "        \"phase3\":(datetime(2012, 7, 9), datetime(2014, 10, 27)),\n",
    "        \"phase4\":(datetime(2014, 10, 27), datetime(2015, 8, 10)),\n",
    "        \"phase5\":(datetime(2015, 8, 10), datetime(2015, 11, 9)),\n",
    "        \"phase6\":(datetime(2015, 11, 9), datetime(2015, 12, 28)),\n",
    "        \"phase7\":(datetime(2015, 12, 28), datetime(2016, 10, 31))\n",
    "    }\n",
    "}\n"
   ]
  },
  {
   "cell_type": "code",
   "execution_count": 3,
   "metadata": {},
   "outputs": [],
   "source": [
    "company_setup = data_Valeant\n",
    "name = company_setup ['name'] \n",
    "symbol = company_setup ['symbol']\n",
    "price_range_size = company_setup ['price_range_size']\n",
    "phases = company_setup['phases']\n",
    "\n",
    "# constant used for other computation\n",
    "root_date = datetime(1800, 1, 1)"
   ]
  },
  {
   "cell_type": "markdown",
   "metadata": {},
   "source": [
    "## Fetch the data"
   ]
  },
  {
   "cell_type": "code",
   "execution_count": 7,
   "metadata": {},
   "outputs": [
    {
     "name": "stdout",
     "output_type": "stream",
     "text": [
      "Url to fetch the data https://www.investopedia.com/markets/api/partial/historical/?Symbol=VRX&Type=Historical+Prices&Timeframe=Weekly&StartDate=Jan+01%2C+1900\n",
      "fetching data for VRX on Weekly...\n"
     ]
    }
   ],
   "source": [
    "def get_raw_historical_data(symbol, timeframe='daily'):\n",
    "    url_symbol = \"https://www.investopedia.com/markets/api/partial/historical/?Symbol={}&Type=Historical+Prices&Timeframe={}&StartDate=Jan+01%2C+1900\".format(symbol, timeframe)\n",
    "    print(\"Url to fetch the data {}\".format(url_symbol))\n",
    "    print(\"fetching data for {} on {}...\".format(symbol, timeframe))\n",
    "    df_list = pd.read_html(url_symbol, header=0, parse_dates=True)\n",
    "    df_price = df_list[0].dropna()\n",
    "    return df_price\n",
    "\n",
    "# df_daily_price_raw = get_raw_historical_data(symbol, 'Daily')\n",
    "df_weekly_price_raw = get_raw_historical_data(symbol, 'Weekly')"
   ]
  },
  {
   "cell_type": "code",
   "execution_count": 24,
   "metadata": {},
   "outputs": [],
   "source": [
    "def get_nb_weeks(row, base_date = root_date):\n",
    "    return int((row[\"Date\"]-base_date).days/7)\n",
    "\n",
    "def clean_raw_market_data(df):\n",
    "    df.loc[:,('Date')] = pd.to_datetime(df.loc[:,('Date')])\n",
    "    df = df.rename(columns={'Adj. Close':'Close'})\n",
    "    df['IsPriceClosingUp'] = df.Close > df.Close.shift()\n",
    "    df['weekId'] = df.apply (lambda row: get_nb_weeks (row),axis=1)\n",
    "    return df\n",
    "\n",
    "# df_daily_price = clean_raw_market_data(df_daily_price_raw)\n",
    "df_weekly_price = clean_raw_market_data(df_weekly_price_raw)"
   ]
  },
  {
   "cell_type": "code",
   "execution_count": 25,
   "metadata": {},
   "outputs": [
    {
     "name": "stdout",
     "output_type": "stream",
     "text": [
      "           Date   Open   High    Low  Close      Volume  IsPriceClosingUp  \\\n",
      "0    2018-07-13  24.15  24.43  23.36  23.40   6562058.0             False   \n",
      "1    2018-07-06  22.94  23.06  22.76  22.96   4630733.0             False   \n",
      "2    2018-06-29  23.71  24.06  23.08  23.24   4967458.0              True   \n",
      "3    2018-06-22  24.29  24.47  23.82  24.27   6174842.0              True   \n",
      "4    2018-06-15  26.76  27.11  26.63  26.86   6070686.0              True   \n",
      "5    2018-06-08  25.00  26.09  24.94  25.79  10602499.0             False   \n",
      "6    2018-06-01  22.13  22.24  22.05  22.08   3990433.0             False   \n",
      "7    2018-05-25  22.16  22.32  22.09  22.24   3470573.0              True   \n",
      "8    2018-05-18  22.06  22.24  21.97  22.14   5488345.0             False   \n",
      "9    2018-05-11  20.07  20.93  19.82  20.85  10885417.0             False   \n",
      "10   2018-05-04  17.62  18.05  17.44  18.02   5478651.0             False   \n",
      "11   2018-04-27  17.85  18.25  17.82  18.07   5664572.0              True   \n",
      "12   2018-04-20  17.24  17.39  16.98  17.18   4933810.0             False   \n",
      "13   2018-04-13  16.73  17.40  16.71  17.15  10802535.0             False   \n",
      "14   2018-04-06  15.89  16.08  15.28  15.44   5982608.0             False   \n",
      "15   2018-03-29  15.57  16.00  15.36  15.92   6485798.0              True   \n",
      "16   2018-03-23  16.02  16.05  15.36  15.37   7129025.0             False   \n",
      "17   2018-03-16  16.76  16.95  16.70  16.73   7036139.0              True   \n",
      "18   2018-03-09  15.41  15.63  15.28  15.38   9852132.0             False   \n",
      "19   2018-03-02  14.81  15.08  14.44  14.88  21276035.0             False   \n",
      "20   2018-02-23  18.39  18.84  18.21  18.68   7717779.0              True   \n",
      "21   2018-02-16  18.67  19.09  18.60  18.88  10169588.0              True   \n",
      "22   2018-02-09  17.56  17.98  17.02  17.79  12678746.0             False   \n",
      "23   2018-02-02  18.35  18.78  18.00  18.00   9190879.0              True   \n",
      "24   2018-01-26  19.66  20.19  19.23  19.32  14696139.0              True   \n",
      "25   2018-01-19  21.94  21.98  21.07  21.52  15382505.0              True   \n",
      "26   2018-01-12  24.19  24.41  23.70  23.84  10214503.0              True   \n",
      "27   2018-01-05  23.51  24.43  23.22  23.85  22334545.0              True   \n",
      "28   2017-12-29  21.15  21.27  20.78  20.78  10325043.0             False   \n",
      "29   2017-12-22  21.60  21.80  21.08  21.55  13460288.0              True   \n",
      "...         ...    ...    ...    ...    ...         ...               ...   \n",
      "1509 1990-07-27   1.43   1.54   1.43   1.43     20850.0             False   \n",
      "1510 1990-07-20   1.43   1.59   1.43   1.59     28500.0              True   \n",
      "1511 1990-07-13   1.65   1.65   1.59   1.65     19950.0              True   \n",
      "1512 1990-07-06   1.59   1.65   1.54   1.54     42000.0             False   \n",
      "1513 1990-06-29   1.71   1.71   1.59   1.59     38250.0              True   \n",
      "1514 1990-06-22   1.82   1.94   1.82   1.88     55050.0              True   \n",
      "1515 1990-06-15   1.82   2.11   1.77   2.11     94650.0              True   \n",
      "1516 1990-06-08   1.25   1.31   1.19   1.31     30000.0             False   \n",
      "1517 1990-06-01   1.19   1.25   1.19   1.19     15600.0             False   \n",
      "1518 1990-05-25   1.19   1.19   1.14   1.14     33450.0             False   \n",
      "1519 1990-05-18   1.25   1.25   1.19   1.25     74100.0              True   \n",
      "1520 1990-05-11   1.37   1.43   1.37   1.37     18750.0              True   \n",
      "1521 1990-05-04   1.54   1.54   1.48   1.48      9300.0              True   \n",
      "1522 1990-04-27   1.48   1.54   1.48   1.48     14250.0             False   \n",
      "1523 1990-04-20   1.48   1.54   1.48   1.48     11850.0             False   \n",
      "1524 1990-04-12   1.54   1.59   1.54   1.59     44400.0              True   \n",
      "1525 1990-04-06   1.54   1.59   1.54   1.54     36000.0             False   \n",
      "1526 1990-03-30   1.65   1.71   1.65   1.71     15150.0              True   \n",
      "1527 1990-03-23   1.59   1.71   1.59   1.71     42000.0             False   \n",
      "1528 1990-03-16   1.82   1.82   1.77   1.77     26550.0              True   \n",
      "1529 1990-03-09   1.77   1.88   1.71   1.82     59100.0              True   \n",
      "1530 1990-03-02   1.59   1.82   1.59   1.71    100800.0             False   \n",
      "1531 1990-02-23   2.16   2.28   2.16   2.22     33750.0              True   \n",
      "1532 1990-02-16   2.22   2.22   2.11   2.16     47850.0             False   \n",
      "1533 1990-02-09   2.28   2.34   2.28   2.28      2400.0              True   \n",
      "1534 1990-02-02   2.16   2.28   2.16   2.22     25050.0             False   \n",
      "1535 1990-01-26   2.22   2.22   2.16   2.16     54900.0             False   \n",
      "1536 1990-01-19   2.28   2.39   2.28   2.34     81900.0              True   \n",
      "1537 1990-01-12   2.34   2.39   2.28   2.28    157200.0             False   \n",
      "1538 1990-01-05   2.39   2.39   2.34   2.39      6600.0              True   \n",
      "\n",
      "      weekId  \n",
      "0      11402  \n",
      "1      11401  \n",
      "2      11400  \n",
      "3      11399  \n",
      "4      11398  \n",
      "5      11397  \n",
      "6      11396  \n",
      "7      11395  \n",
      "8      11394  \n",
      "9      11393  \n",
      "10     11392  \n",
      "11     11391  \n",
      "12     11390  \n",
      "13     11389  \n",
      "14     11388  \n",
      "15     11387  \n",
      "16     11386  \n",
      "17     11385  \n",
      "18     11384  \n",
      "19     11383  \n",
      "20     11382  \n",
      "21     11381  \n",
      "22     11380  \n",
      "23     11379  \n",
      "24     11378  \n",
      "25     11377  \n",
      "26     11376  \n",
      "27     11375  \n",
      "28     11374  \n",
      "29     11373  \n",
      "...      ...  \n",
      "1509    9943  \n",
      "1510    9942  \n",
      "1511    9941  \n",
      "1512    9940  \n",
      "1513    9939  \n",
      "1514    9938  \n",
      "1515    9937  \n",
      "1516    9936  \n",
      "1517    9935  \n",
      "1518    9934  \n",
      "1519    9933  \n",
      "1520    9932  \n",
      "1521    9931  \n",
      "1522    9930  \n",
      "1523    9929  \n",
      "1524    9928  \n",
      "1525    9927  \n",
      "1526    9926  \n",
      "1527    9925  \n",
      "1528    9924  \n",
      "1529    9923  \n",
      "1530    9922  \n",
      "1531    9921  \n",
      "1532    9920  \n",
      "1533    9919  \n",
      "1534    9918  \n",
      "1535    9917  \n",
      "1536    9916  \n",
      "1537    9915  \n",
      "1538    9914  \n",
      "\n",
      "[1489 rows x 8 columns]\n"
     ]
    }
   ],
   "source": [
    "print(df_weekly_price)"
   ]
  },
  {
   "cell_type": "code",
   "execution_count": 40,
   "metadata": {},
   "outputs": [],
   "source": [
    "def get_weekId_cartesian_product(df):\n",
    "    df_from = df[['weekId']].rename(index=str, columns={\"weekId\": \"weekId_from\"})\n",
    "    df_to = df[['weekId']].rename(index=str, columns={\"weekId\": \"weekId_to\"})\n",
    "    df_cartesian = df_from.assign(foo=1).merge(df_to.assign(foo=1)).drop('foo', 1)\n",
    "\n",
    "    return df_cartesian [(df_cartesian .weekId_from < df_cartesian .weekId_to)]"
   ]
  },
  {
   "cell_type": "code",
   "execution_count": 46,
   "metadata": {},
   "outputs": [],
   "source": [
    "def get_weekId_max_price(df):\n",
    "    return df.ix[ df['Close'].argmax()][\"weekId\"]"
   ]
  }
 ],
 "metadata": {
  "kernelspec": {
   "display_name": "Python 3.6",
   "language": "python",
   "name": "python36"
  },
  "language_info": {
   "codemirror_mode": {
    "name": "ipython",
    "version": 3
   },
   "file_extension": ".py",
   "mimetype": "text/x-python",
   "name": "python",
   "nbconvert_exporter": "python",
   "pygments_lexer": "ipython3",
   "version": "3.6.3"
  }
 },
 "nbformat": 4,
 "nbformat_minor": 2
}
