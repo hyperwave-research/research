{
 "cells": [
  {
   "cell_type": "markdown",
   "metadata": {
    "collapsed": true
   },
   "source": [
    "# This is  a research notebook to try to find correlation between hyperwave and volume "
   ]
  },
  {
   "cell_type": "code",
   "execution_count": null,
   "metadata": {},
   "outputs": [],
   "source": [
    "# !pip install --upgrade pip"
   ]
  },
  {
   "cell_type": "code",
   "execution_count": 2,
   "metadata": {},
   "outputs": [],
   "source": [
    "from datetime import datetime\n",
    "import pandas as pd\n",
    "import numpy as np\n",
    "import plotly.plotly as py\n",
    "import plotly.graph_objs as go\n",
    "import plotly\n",
    "plotly.tools.set_credentials_file(username='davzucky', api_key='aZw7LRJOSDcPJyIk2G0U')"
   ]
  },
  {
   "cell_type": "markdown",
   "metadata": {},
   "source": [
    "## This is the place where you setup the symbol and phases"
   ]
  },
  {
   "cell_type": "code",
   "execution_count": 3,
   "metadata": {},
   "outputs": [],
   "source": [
    "data_3DSystemsCorp ={\n",
    "    'name':'3D SYSTEMS CORP',\n",
    "    'symbol':'DDD',\n",
    "    'price_range_size':5,\n",
    "    'phases':{\n",
    "        \"phase1\":(datetime(2000, 1, 1), datetime(2012, 5, 14)),\n",
    "        \"phase2\":(datetime(2012, 5, 14), datetime(2013, 3, 18)),\n",
    "        \"phase3\":(datetime(2013, 3, 18), datetime(2013, 10, 7)),\n",
    "        \"phase4\":(datetime(2013, 10, 7), datetime(2014, 1, 14)),\n",
    "        \"phase5\":(datetime(2014, 1, 14), datetime(2014, 5, 5)),\n",
    "        \"phase6\":(datetime(2014, 5, 5), datetime(2014, 7, 7)),\n",
    "        \"phase7\":(datetime(2014, 7, 7) , datetime(2015, 7, 6))\n",
    "    }\n",
    "}\n",
    "\n",
    "\n",
    "data_Valeant = {\n",
    "    'name':'Baush health Company. Ex Valeant',\n",
    "    'symbol':'VRX',\n",
    "    'price_range_size':10,\n",
    "    'phases':{\n",
    "        \"phase1\":(datetime(2008, 3, 10), datetime(2010, 6, 21)),\n",
    "        \"phase2\":(datetime(2010, 6, 21), datetime(2012, 7, 9)),\n",
    "        \"phase3\":(datetime(2012, 7, 9), datetime(2014, 10, 27)),\n",
    "        \"phase4\":(datetime(2014, 10, 27), datetime(2015, 8, 10)),\n",
    "        \"phase5\":(datetime(2015, 8, 10), datetime(2015, 11, 9)),\n",
    "        \"phase6\":(datetime(2015, 11, 9), datetime(2015, 12, 28)),\n",
    "        \"phase7\":(datetime(2015, 12, 28), datetime(2016, 10, 31))\n",
    "    }\n",
    "}\n"
   ]
  },
  {
   "cell_type": "code",
   "execution_count": 4,
   "metadata": {},
   "outputs": [],
   "source": [
    "company_setup = data_Valeant\n",
    "name = company_setup ['name'] \n",
    "symbol = company_setup ['symbol']\n",
    "price_range_size = company_setup ['price_range_size']\n",
    "phases = company_setup['phases']\n",
    "\n",
    "# constant used for other computation\n",
    "root_date = datetime(1800, 1, 1)"
   ]
  },
  {
   "cell_type": "markdown",
   "metadata": {},
   "source": [
    "## Fetch the data"
   ]
  },
  {
   "cell_type": "code",
   "execution_count": 18,
   "metadata": {},
   "outputs": [
    {
     "name": "stdout",
     "output_type": "stream",
     "text": [
      "Url to fetch the data https://www.investopedia.com/markets/api/partial/historical/?Symbol=VRX&Type=Historical+Prices&Timeframe=Daily&StartDate=Jan+01%2C+1900\n",
      "fetching data for VRX on Daily...\n"
     ]
    },
    {
     "name": "stderr",
     "output_type": "stream",
     "text": [
      "/home/nbuser/anaconda3_501/lib/python3.6/site-packages/pandas/core/indexing.py:517: SettingWithCopyWarning:\n",
      "\n",
      "\n",
      "A value is trying to be set on a copy of a slice from a DataFrame.\n",
      "Try using .loc[row_indexer,col_indexer] = value instead\n",
      "\n",
      "See the caveats in the documentation: http://pandas.pydata.org/pandas-docs/stable/indexing.html#indexing-view-versus-copy\n",
      "\n"
     ]
    },
    {
     "name": "stdout",
     "output_type": "stream",
     "text": [
      "Url to fetch the data https://www.investopedia.com/markets/api/partial/historical/?Symbol=VRX&Type=Historical+Prices&Timeframe=Weekly&StartDate=Jan+01%2C+1900\n",
      "fetching data for VRX on Weekly...\n"
     ]
    }
   ],
   "source": [
    "def get_raw_historical_data(symbol, timeframe='daily'):\n",
    "    url_symbol = \"https://www.investopedia.com/markets/api/partial/historical/?Symbol={}&Type=Historical+Prices&Timeframe={}&StartDate=Jan+01%2C+1900\".format(symbol, timeframe)\n",
    "    print(\"Url to fetch the data {}\".format(url_symbol))\n",
    "    print(\"fetching data for {} on {}...\".format(symbol, timeframe))\n",
    "    df_list = pd.read_html(url_symbol, header=0, parse_dates=True)\n",
    "    df_price = df_list[0].dropna()\n",
    "    return df_price\n",
    "\n",
    "df_daily_price_raw = get_raw_historical_data(symbol, 'Daily')\n",
    "df_weekly_price_raw = get_raw_historical_data(symbol, 'Weekly')"
   ]
  },
  {
   "cell_type": "code",
   "execution_count": 20,
   "metadata": {},
   "outputs": [],
   "source": [
    "def clean_raw_market_data(df):\n",
    "    df.loc[:,('Date')] = pd.to_datetime(df.loc[:,('Date')])\n",
    "    df = df.rename(columns={'Adj. Close':'Close'})\n",
    "    df['IsPriceClosingUp'] = df.Close > df.Close.shift()\n",
    "    return df\n",
    "\n",
    "df_daily_price = clean_raw_market_data(df_daily_price_raw)\n",
    "df_weekly_price = clean_raw_market_data(df_weekly_price_raw)"
   ]
  },
  {
   "cell_type": "code",
   "execution_count": 33,
   "metadata": {},
   "outputs": [
    {
     "data": {
      "text/plain": [
       "0       False\n",
       "1        True\n",
       "2       False\n",
       "3        True\n",
       "4       False\n",
       "5       False\n",
       "6       False\n",
       "7        True\n",
       "8       False\n",
       "9        True\n",
       "10       True\n",
       "11      False\n",
       "12       True\n",
       "13      False\n",
       "14       True\n",
       "15       True\n",
       "16      False\n",
       "17      False\n",
       "18      False\n",
       "19       True\n",
       "20      False\n",
       "21       True\n",
       "22      False\n",
       "23      False\n",
       "24      False\n",
       "25      False\n",
       "26       True\n",
       "27      False\n",
       "28      False\n",
       "29       True\n",
       "        ...  \n",
       "7211     True\n",
       "7212    False\n",
       "7213    False\n",
       "7214    False\n",
       "7215    False\n",
       "7216    False\n",
       "7217    False\n",
       "7218    False\n",
       "7219    False\n",
       "7220    False\n",
       "7221    False\n",
       "7222     True\n",
       "7223     True\n",
       "7224    False\n",
       "7225    False\n",
       "7226     True\n",
       "7227    False\n",
       "7228    False\n",
       "7229    False\n",
       "7230     True\n",
       "7231    False\n",
       "7232    False\n",
       "7233     True\n",
       "7234    False\n",
       "7235    False\n",
       "7236     True\n",
       "7237    False\n",
       "7238    False\n",
       "7239    False\n",
       "7240    False\n",
       "Name: IsPriceClosingUp, Length: 7191, dtype: bool"
      ]
     },
     "execution_count": 33,
     "metadata": {},
     "output_type": "execute_result"
    }
   ],
   "source": [
    "df_daily_price[\"IsPriceClosingUp\"]\n"
   ]
  },
  {
   "cell_type": "code",
   "execution_count": 23,
   "metadata": {},
   "outputs": [],
   "source": [
    "def get_price_range(row, range_size=1, column_name = 'Close'):\n",
    "    return int(row[column_name]/range_size) * range_size"
   ]
  },
  {
   "cell_type": "code",
   "execution_count": 30,
   "metadata": {},
   "outputs": [
    {
     "name": "stderr",
     "output_type": "stream",
     "text": [
      "/home/nbuser/anaconda3_501/lib/python3.6/site-packages/ipykernel/__main__.py:4: SettingWithCopyWarning:\n",
      "\n",
      "\n",
      "A value is trying to be set on a copy of a slice from a DataFrame.\n",
      "Try using .loc[row_indexer,col_indexer] = value instead\n",
      "\n",
      "See the caveats in the documentation: http://pandas.pydata.org/pandas-docs/stable/indexing.html#indexing-view-versus-copy\n",
      "\n"
     ]
    }
   ],
   "source": [
    "df_phases = { k:df_daily_price.loc[ \\\n",
    "                ((df_daily_price['Date'] >= v[0]) & \\\n",
    "                (df_daily_price['Date'] < v[1]))] for k,v in phases.items()}\n",
    "\n",
    "def get_df_with_price_range(df):\n",
    "    df['price_range'] = df_daily_price.apply (lambda row: get_price_range (row, price_range_size),axis=1)\n",
    "    return df \n",
    "    \n",
    "df_phases_with_price_range = { k:get_df_with_price_range(df) for k,df in df_phases.items()}\n",
    "    \n",
    "# TODO - Need to update here and split Price up and Down before doing that\n",
    "df_phases_prices = {k:df.groupby(['price_range']).sum() for k,df in df_phases_with_price_range.items()}\n"
   ]
  },
  {
   "cell_type": "code",
   "execution_count": 35,
   "metadata": {},
   "outputs": [
    {
     "data": {
      "text/plain": [
       "2031    False\n",
       "2032     True\n",
       "2033     True\n",
       "2034     True\n",
       "2035    False\n",
       "2036    False\n",
       "2037    False\n",
       "2038    False\n",
       "2039    False\n",
       "2040    False\n",
       "2041     True\n",
       "2042     True\n",
       "2043    False\n",
       "2044    False\n",
       "2045     True\n",
       "2046    False\n",
       "2047    False\n",
       "2048    False\n",
       "2049     True\n",
       "2050    False\n",
       "2051    False\n",
       "2052     True\n",
       "2053     True\n",
       "2054     True\n",
       "2055     True\n",
       "2056     True\n",
       "2057     True\n",
       "2058    False\n",
       "2059    False\n",
       "2060    False\n",
       "        ...  \n",
       "2576     True\n",
       "2577     True\n",
       "2578    False\n",
       "2579     True\n",
       "2580    False\n",
       "2581     True\n",
       "2582     True\n",
       "2583     True\n",
       "2584    False\n",
       "2585     True\n",
       "2586     True\n",
       "2587    False\n",
       "2588    False\n",
       "2589    False\n",
       "2590     True\n",
       "2591    False\n",
       "2592    False\n",
       "2593     True\n",
       "2594     True\n",
       "2595    False\n",
       "2596    False\n",
       "2597    False\n",
       "2598    False\n",
       "2599    False\n",
       "2600    False\n",
       "2601     True\n",
       "2602     True\n",
       "2603    False\n",
       "2604     True\n",
       "2605    False\n",
       "Name: IsPriceClosingUp, Length: 575, dtype: bool"
      ]
     },
     "execution_count": 35,
     "metadata": {},
     "output_type": "execute_result"
    }
   ],
   "source": [
    "df_phases_with_price_range[\"phase1\"][\"IsPriceClosingUp\"]"
   ]
  },
  {
   "cell_type": "code",
   "execution_count": 9,
   "metadata": {},
   "outputs": [],
   "source": [
    "df_phases_price_ranges = [df[['Volume']].rename(columns={'Volume':k}) for k,df in df_phases_prices.items()]"
   ]
  },
  {
   "cell_type": "code",
   "execution_count": 10,
   "metadata": {},
   "outputs": [],
   "source": [
    "df_price_summary = pd.concat(df_phases_price_ranges, axis=1)"
   ]
  },
  {
   "cell_type": "code",
   "execution_count": 11,
   "metadata": {},
   "outputs": [],
   "source": [
    "data = [ go.Bar(x=df_price_summary[col_name],\n",
    "            y=df_price_summary.index,\n",
    "            name=col_name,\n",
    "            orientation='h')\n",
    "    for col_name in df_price_summary.columns.values]"
   ]
  },
  {
   "cell_type": "code",
   "execution_count": 12,
   "metadata": {},
   "outputs": [
    {
     "data": {
      "text/html": [
       "<iframe id=\"igraph\" scrolling=\"no\" style=\"border:none;\" seamless=\"seamless\" src=\"https://plot.ly/~davzucky/8.embed\" height=\"525px\" width=\"100%\"></iframe>"
      ],
      "text/plain": [
       "<plotly.tools.PlotlyDisplay object>"
      ]
     },
     "execution_count": 12,
     "metadata": {},
     "output_type": "execute_result"
    }
   ],
   "source": [
    "layout = go.Layout(\n",
    "    barmode='stack'\n",
    ")\n",
    "\n",
    "fig = go.Figure(data=data, layout=layout)\n",
    "py.iplot(fig, filename='Volume Per price Range {}'.format(name))"
   ]
  },
  {
   "cell_type": "code",
   "execution_count": 13,
   "metadata": {},
   "outputs": [
    {
     "data": {
      "text/html": [
       "<iframe id=\"igraph\" scrolling=\"no\" style=\"border:none;\" seamless=\"seamless\" src=\"https://plot.ly/~davzucky/6.embed\" height=\"525px\" width=\"100%\"></iframe>"
      ],
      "text/plain": [
       "<plotly.tools.PlotlyDisplay object>"
      ]
     },
     "execution_count": 13,
     "metadata": {},
     "output_type": "execute_result"
    }
   ],
   "source": [
    "df_weekly_hyperwave = df_weekly_price.loc[ \\\n",
    "                ((df_weekly_price['Date'] >= phases['phase1'][0]) & \\\n",
    "                (df_weekly_price['Date'] < phases['phase7'][1]))]\n",
    "\n",
    "trace = go.Candlestick(x=df_weekly_hyperwave.Date,\n",
    "                       open=df_weekly_hyperwave.Open,\n",
    "                       high=df_weekly_hyperwave.High,\n",
    "                       low=df_weekly_hyperwave.Low,\n",
    "                       close=df_weekly_hyperwave.Close)\n",
    "layout = go.Layout(\n",
    "    xaxis = dict(\n",
    "        rangeslider = dict(\n",
    "            visible = False\n",
    "        )\n",
    "    )\n",
    ")\n",
    "\n",
    "data = [trace]\n",
    "\n",
    "fig = go.Figure(data=data, layout=layout)\n",
    "py.iplot(fig, filename='OHLC without Rangeslider')\n"
   ]
  },
  {
   "cell_type": "code",
   "execution_count": 98,
   "metadata": {},
   "outputs": [
    {
     "name": "stdout",
     "output_type": "stream",
     "text": [
      "outer: 0, inner: 1\n",
      "outer: 0, inner: 2\n",
      "outer: 0, inner: 3\n",
      "outer: 0, inner: 4\n",
      "outer: 0, inner: 5\n",
      "outer: 0, inner: 6\n",
      "outer: 0, inner: 7\n",
      "outer: 0, inner: 8\n",
      "outer: 0, inner: 9\n",
      "outer: 0, inner: 10\n",
      "outer: 1, inner: 2\n",
      "outer: 1, inner: 3\n",
      "outer: 1, inner: 4\n",
      "outer: 1, inner: 5\n",
      "outer: 1, inner: 6\n",
      "outer: 1, inner: 7\n",
      "outer: 1, inner: 8\n",
      "outer: 1, inner: 9\n",
      "outer: 1, inner: 10\n",
      "outer: 2, inner: 3\n",
      "outer: 2, inner: 4\n",
      "outer: 2, inner: 5\n",
      "outer: 2, inner: 6\n",
      "outer: 2, inner: 7\n",
      "outer: 2, inner: 8\n",
      "outer: 2, inner: 9\n",
      "outer: 2, inner: 10\n",
      "outer: 3, inner: 4\n",
      "outer: 3, inner: 5\n",
      "outer: 3, inner: 6\n",
      "outer: 3, inner: 7\n",
      "outer: 3, inner: 8\n",
      "outer: 3, inner: 9\n",
      "outer: 3, inner: 10\n",
      "outer: 4, inner: 5\n",
      "outer: 4, inner: 6\n",
      "outer: 4, inner: 7\n",
      "outer: 4, inner: 8\n",
      "outer: 4, inner: 9\n",
      "outer: 4, inner: 10\n",
      "outer: 5, inner: 6\n",
      "outer: 5, inner: 7\n",
      "outer: 5, inner: 8\n",
      "outer: 5, inner: 9\n",
      "outer: 5, inner: 10\n",
      "outer: 6, inner: 7\n",
      "outer: 6, inner: 8\n",
      "outer: 6, inner: 9\n",
      "outer: 6, inner: 10\n",
      "outer: 7, inner: 8\n",
      "outer: 7, inner: 9\n",
      "outer: 7, inner: 10\n",
      "outer: 8, inner: 9\n",
      "outer: 8, inner: 10\n",
      "outer: 9, inner: 10\n",
      "[(0.4399999999999977, -4993.479999999974), (0.08000000000000007, -888.7600000000008), (-0.2900000000000003, 3329.9800000000037), (-0.8650000000000002, 9886.130000000003), (-0.4780000000000001, 5473.5560000000005), (0.22000000000000006, -2485.0400000000004), (0.16571428571428573, -1866.074285714286), (0.15749999999999975, -1772.414999999997), (0.283333333333333, -3207.166666666663), (0.5379999999999999, -6110.875999999999), (-0.2799999999999976, 3215.2399999999725), (-0.6549999999999994, 7490.6149999999925), (-1.2999999999999996, 14844.259999999995), (-0.7074999999999996, 8089.167499999995), (0.17600000000000052, -1983.616000000006), (0.1200000000000004, -1345.1600000000044), (0.11714285714285719, -1312.5857142857149), (0.26374999999999993, -2984.053749999999), (0.548888888888889, -6234.922222222223), (-1.0300000000000011, 11765.240000000013), (-1.8100000000000005, 20657.24000000001), (-0.8500000000000002, 9713.240000000002), (0.29000000000000004, -3282.7600000000007), (0.2, -2256.76), (0.183333333333333, -2066.759999999996), (0.341428571428571, -3869.04571428571), (0.6524999999999999, -7415.259999999998), (-2.59, 29547.68), (-0.7599999999999998, 8687.509999999998), (0.7300000000000004, -8297.000000000004), (0.5075000000000003, -5760.722500000003), (0.4259999999999998, -4831.703999999998), (0.5699999999999997, -6473.159999999996), (0.8928571428571429, -10153.408571428572), (1.0700000000000003, -12169.000000000002), (2.3900000000000006, -27214.360000000004), (1.5400000000000003, -17526.06), (1.1799999999999997, -13422.779999999997), (1.2019999999999995, -13673.535999999995), (1.4733333333333334, -16766.193333333333), (3.710000000000001, -42257.08000000001), (1.7750000000000004, -20203.885000000002), (1.2166666666666661, -13840.559999999992), (1.2349999999999994, -14049.504999999992), (1.5539999999999998, -17685.147999999997), (-0.16000000000000014, 1845.4400000000016), (-0.030000000000001137, 363.96000000001294), (0.409999999999999, -4650.279999999989), (1.0149999999999997, -11544.859999999997), (0.09999999999999787, -1117.2599999999757), (0.6949999999999985, -7897.2849999999835), (1.4066666666666663, -16006.726666666662), (1.2899999999999991, -14676.119999999992), (2.0600000000000005, -23449.500000000007), (2.830000000000002, -32221.340000000022)]\n"
     ]
    }
   ],
   "source": [
    "result_regression = {\n",
    "    'a':0,\n",
    "    'b':0,\n",
    "    'eps':0,\n",
    "    'point1':(0,0),\n",
    "    'point2':(0,0)\n",
    "}\n",
    "\n",
    "def get_line_for_points(x1, y1, x2, y2):\n",
    "    a = (y2 - y1) / (x2 - x1) \n",
    "    b = y1 - (a * x1)\n",
    "    return (a, b)\n",
    "\n",
    "\n",
    "\n",
    "def regresse_hyperwave_phase(x_array, y_array):\n",
    "    lines = []\n",
    "    for outer in np.arange(0, len(x_array)-1, 1):\n",
    "        for inner in np.arange(outer+1, len(x_array), 1):\n",
    "            print(\"outer: {}, inner: {}\".format(outer, inner))\n",
    "            lines.append( get_line_for_points(\n",
    "                    x_array[outer],\n",
    "                    y_array[outer],\n",
    "                    x_array[inner],\n",
    "                    y_array[inner]\n",
    "                ))\n",
    "    return lines\n",
    "\n",
    "x_array = df_weekly_price.loc[:10,'weeks'].values\n",
    "y_array = df_weekly_price.loc[:10,'Close'].values\n",
    "\n",
    "lines = regresse_hyperwave_phase(x_array, y_array)\n",
    "print(lines)"
   ]
  },
  {
   "cell_type": "code",
   "execution_count": 77,
   "metadata": {},
   "outputs": [],
   "source": [
    "def get_weeks_since(row, start_date = root_date):\n",
    "    return int(((row['Date'] - root_date) / pd.offsets.Day(1)) / 7)\n",
    "\n",
    "df_weekly_price['weeks'] = df_weekly_price.apply (lambda row: get_weeks_since (row),axis=1)\n",
    "    \n"
   ]
  },
  {
   "cell_type": "code",
   "execution_count": 97,
   "metadata": {},
   "outputs": [
    {
     "name": "stdout",
     "output_type": "stream",
     "text": [
      "[11402 11401 11400 11399 11398 11397 11396 11395 11394 11393 11392]\n",
      "(1489, 8)\n"
     ]
    }
   ],
   "source": [
    "print(df_weekly_price.loc[:10,'weeks'].values)\n",
    "print(df_weekly_price.shape)"
   ]
  },
  {
   "cell_type": "code",
   "execution_count": 84,
   "metadata": {},
   "outputs": [
    {
     "data": {
      "text/plain": [
       "array([ 0,  1,  2,  3,  4,  5,  6,  7,  8,  9, 10, 11, 12, 13, 14, 15, 16,\n",
       "       17, 18, 19, 20, 21, 22, 23, 24, 25, 26, 27, 28, 29, 30, 31, 32, 33,\n",
       "       34, 35, 36, 37, 38, 39, 40, 41, 42, 43, 44, 45, 46, 47, 48, 49, 50,\n",
       "       51, 52, 53, 54, 55, 56, 57, 58, 59, 60, 61, 62, 63, 64, 65, 66, 67,\n",
       "       68, 69, 70, 71, 72, 73, 74, 75, 76, 77, 78, 79, 80, 81, 82, 83, 84,\n",
       "       85, 86, 87, 88, 89, 90, 91, 92, 93, 94, 95, 96, 97, 98, 99])"
      ]
     },
     "execution_count": 84,
     "metadata": {},
     "output_type": "execute_result"
    }
   ],
   "source": []
  }
 ],
 "metadata": {
  "kernelspec": {
   "display_name": "Python 3.6",
   "language": "python",
   "name": "python36"
  },
  "language_info": {
   "codemirror_mode": {
    "name": "ipython",
    "version": 3
   },
   "file_extension": ".py",
   "mimetype": "text/x-python",
   "name": "python",
   "nbconvert_exporter": "python",
   "pygments_lexer": "ipython3",
   "version": "3.6.3"
  }
 },
 "nbformat": 4,
 "nbformat_minor": 2
}
