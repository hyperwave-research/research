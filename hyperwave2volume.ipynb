{
 "cells": [
  {
   "cell_type": "markdown",
   "metadata": {
    "collapsed": true
   },
   "source": [
    "## This is  a research notebook to try to find correlation between hyperwave and volume "
   ]
  },
  {
   "cell_type": "code",
   "execution_count": 1,
   "metadata": {},
   "outputs": [
    {
     "name": "stdout",
     "output_type": "stream",
     "text": [
      "Requirement already up-to-date: pip in /home/nbuser/anaconda3_501/lib/python3.6/site-packages (18.0)\r\n"
     ]
    }
   ],
   "source": [
    "!pip install --upgrade pip"
   ]
  },
  {
   "cell_type": "code",
   "execution_count": 2,
   "metadata": {},
   "outputs": [],
   "source": [
    "import pandas as pd\n",
    "import numpy as np"
   ]
  },
  {
   "cell_type": "code",
   "execution_count": 3,
   "metadata": {},
   "outputs": [
    {
     "name": "stdout",
     "output_type": "stream",
     "text": [
      "https://www.investopedia.com/markets/api/partial/historical/?Symbol=DDD&Type=Historical+Prices&Timeframe=Daily&StartDate=Jan+01%2C+1900\n"
     ]
    }
   ],
   "source": [
    "symbol = \"DDD\"\n",
    "url_symbol_daily = \"https://www.investopedia.com/markets/api/partial/historical/?Symbol={}&Type=Historical+Prices&Timeframe=Daily&StartDate=Jan+01%2C+1900\".format(symbol)\n",
    "print(url_symbol_daily)\n",
    "\n",
    "df_list = pd.read_html(url_symbol_daily, header=0, index_col=0, parse_dates=True)\n",
    "\n"
   ]
  },
  {
   "cell_type": "code",
   "execution_count": 4,
   "metadata": {},
   "outputs": [
    {
     "name": "stdout",
     "output_type": "stream",
     "text": [
      "             Open   High    Low  Adj. Close     Volume\n",
      "Date                                                  \n",
      "2018-07-27  13.07  13.22  12.00       12.41  3808730.0\n",
      "2018-07-26  13.16  13.81  12.43       13.17  3445193.0\n",
      "2018-07-25  13.91  14.41  13.89       14.00  2344288.0\n",
      "2018-07-24  15.51  15.64  13.58       13.71  4291412.0\n",
      "2018-07-23  15.00  15.51  14.75       15.45  1411785.0\n",
      "2018-07-20  15.02  15.15  14.94       15.00  1443437.0\n",
      "2018-07-19  14.96  15.20  14.85       15.03  1378730.0\n",
      "2018-07-18  15.09  15.29  14.95       15.02  1314205.0\n",
      "2018-07-17  15.09  15.25  14.92       15.11  1540201.0\n",
      "2018-07-16  15.40  15.61  15.15       15.22   959622.0\n",
      "2018-07-13  15.72  15.94  15.32       15.35  1737685.0\n",
      "2018-07-12  14.99  15.80  14.96       15.76  2474272.0\n",
      "2018-07-11  14.60  14.95  14.30       14.90  1024459.0\n",
      "2018-07-10  15.03  15.07  14.52       14.72  2132996.0\n",
      "2018-07-09  14.80  15.11  14.74       15.03  1822057.0\n",
      "2018-07-06  14.44  14.77  14.31       14.74  1169290.0\n",
      "2018-07-05  14.05  14.44  14.01       14.42   896913.0\n",
      "2018-07-03  14.18  14.30  13.98       13.98   991869.0\n",
      "2018-07-02  13.74  14.10  13.39       14.09  1387797.0\n",
      "2018-06-29  13.62  13.97  13.62       13.81  2157207.0\n",
      "2018-06-28  13.32  13.77  13.21       13.60  1461922.0\n",
      "2018-06-27  14.04  14.30  13.37       13.41  2251175.0\n",
      "2018-06-26  13.98  14.41  13.96       14.04  1326194.0\n",
      "2018-06-25  14.18  14.26  13.45       14.01  2418854.0\n",
      "2018-06-22  14.30  14.65  14.18       14.32  3737049.0\n",
      "2018-06-21  15.03  15.34  14.11       14.19  3040864.0\n",
      "2018-06-20  14.40  15.11  14.39       14.97  2710804.0\n",
      "2018-06-19  14.54  14.54  13.89       14.39  2025072.0\n",
      "2018-06-18  14.25  14.56  14.07       14.55  1371324.0\n",
      "2018-06-15  14.30  14.43  14.11       14.29  2052150.0\n",
      "...           ...    ...    ...         ...        ...\n",
      "2011-07-08  14.59  14.96  14.51       14.89   628623.0\n",
      "2011-07-07  14.16  14.89  14.10       14.88   777246.0\n",
      "2011-07-06  14.12  14.12  13.92       14.07   414023.0\n",
      "2011-07-05  13.50  14.17  13.40       14.12   594000.0\n",
      "2011-07-01  13.16  13.57  13.07       13.52   462111.0\n",
      "2011-06-30  12.77  13.19  12.73       13.14   470907.0\n",
      "2011-06-29  12.71  12.80  12.50       12.71   247958.0\n",
      "2011-06-28  12.17  12.67  12.11       12.64   555170.0\n",
      "2011-06-27  12.59  12.59  12.03       12.06   715148.0\n",
      "2011-06-24  12.83  12.93  12.35       12.48   881439.0\n",
      "2011-06-23  12.19  12.87  11.91       12.83   433008.0\n",
      "2011-06-22  12.50  12.69  12.43       12.44   306104.0\n",
      "2011-06-21  12.04  12.59  12.01       12.56   499088.0\n",
      "2011-06-20  11.79  12.00  11.73       11.96   361160.0\n",
      "2011-06-17  12.08  12.19  11.69       11.85   897380.0\n",
      "2011-06-16  11.95  12.21  11.72       11.97   396647.0\n",
      "2011-06-15  11.91  12.13  11.81       11.95   501767.0\n",
      "2011-06-14  12.11  12.36  11.94       12.07   629834.0\n",
      "2011-06-13  11.93  12.33  11.57       11.96  1036536.0\n",
      "2011-06-10  11.83  12.06  11.81       11.94   607094.0\n",
      "2011-06-09  11.69  12.01  11.53       12.01   513944.0\n",
      "2011-06-08  12.00  12.06  11.63       11.67   771072.0\n",
      "2011-06-07  12.07  12.17  11.99       11.99   548372.0\n",
      "2011-06-06  12.25  12.47  12.03       12.03   494529.0\n",
      "2011-06-03  12.46  12.59  12.24       12.28   785315.0\n",
      "2011-06-02  12.67  12.85  12.47       12.64   619098.0\n",
      "2011-06-01  12.98  13.37  12.67       12.67   802515.0\n",
      "2011-05-31  13.22  13.36  12.95       13.33   716000.0\n",
      "2011-05-27  13.16  13.25  12.77       13.13   755415.0\n",
      "2011-05-26  12.09  13.31  12.05       13.09  1293441.0\n",
      "\n",
      "[1805 rows x 5 columns]\n"
     ]
    }
   ],
   "source": [
    "df_daily_price = df_list[0].dropna()\n",
    "print(df_daily_price)"
   ]
  },
  {
   "cell_type": "code",
   "execution_count": 5,
   "metadata": {},
   "outputs": [
    {
     "ename": "NameError",
     "evalue": "name 'df' is not defined",
     "output_type": "error",
     "traceback": [
      "\u001b[0;31m---------------------------------------------------------------------------\u001b[0m",
      "\u001b[0;31mNameError\u001b[0m                                 Traceback (most recent call last)",
      "\u001b[0;32m<ipython-input-5-e622bed66345>\u001b[0m in \u001b[0;36m<module>\u001b[0;34m()\u001b[0m\n\u001b[1;32m      2\u001b[0m \u001b[0;32mfrom\u001b[0m \u001b[0mpandas\u001b[0m\u001b[0;34m.\u001b[0m\u001b[0mapi\u001b[0m\u001b[0;34m.\u001b[0m\u001b[0mtypes\u001b[0m \u001b[0;32mimport\u001b[0m \u001b[0mis_numeric_dtype\u001b[0m\u001b[0;34m\u001b[0m\u001b[0m\n\u001b[1;32m      3\u001b[0m \u001b[0;34m\u001b[0m\u001b[0m\n\u001b[0;32m----> 4\u001b[0;31m \u001b[0magg\u001b[0m \u001b[0;34m=\u001b[0m \u001b[0mdf\u001b[0m\u001b[0;34m[\u001b[0m\u001b[0;36m0\u001b[0m\u001b[0;34m]\u001b[0m\u001b[0;34m\u001b[0m\u001b[0m\n\u001b[0m\u001b[1;32m      5\u001b[0m \u001b[0;32mfor\u001b[0m \u001b[0my\u001b[0m \u001b[0;32min\u001b[0m \u001b[0magg\u001b[0m\u001b[0;34m.\u001b[0m\u001b[0mcolumns\u001b[0m\u001b[0;34m:\u001b[0m\u001b[0;34m\u001b[0m\u001b[0m\n\u001b[1;32m      6\u001b[0m     \u001b[0;32mif\u001b[0m \u001b[0;34m(\u001b[0m\u001b[0mis_string_dtype\u001b[0m\u001b[0;34m(\u001b[0m\u001b[0magg\u001b[0m\u001b[0;34m[\u001b[0m\u001b[0my\u001b[0m\u001b[0;34m]\u001b[0m\u001b[0;34m)\u001b[0m\u001b[0;34m)\u001b[0m\u001b[0;34m:\u001b[0m\u001b[0;34m\u001b[0m\u001b[0m\n",
      "\u001b[0;31mNameError\u001b[0m: name 'df' is not defined"
     ]
    }
   ],
   "source": [
    "from pandas.api.types import is_string_dtype\n",
    "from pandas.api.types import is_numeric_dtype\n",
    "\n",
    "agg = df[0]\n",
    "for y in agg.columns:\n",
    "    if (is_string_dtype(agg[y])):\n",
    "        print(agg[y])\n",
    "    elif (is_numeric_dtype(agg[y])):\n",
    "        print(agg[y])"
   ]
  },
  {
   "cell_type": "code",
   "execution_count": null,
   "metadata": {},
   "outputs": [],
   "source": [
    "def get_price_range(row, column_name = 'Adj. Close'):\n",
    "    return int(row[column_name]/10) * 10\n",
    "\n",
    "df_daily_price['price_range'] = df_daily_price.apply (lambda row: get_price_range (row),axis=1)\n"
   ]
  },
  {
   "cell_type": "code",
   "execution_count": null,
   "metadata": {},
   "outputs": [],
   "source": [
    "print(df_daily_price.groupby(['price_range']).sum())"
   ]
  }
 ],
 "metadata": {
  "kernelspec": {
   "display_name": "Python 3.6",
   "language": "python",
   "name": "python36"
  },
  "language_info": {
   "codemirror_mode": {
    "name": "ipython",
    "version": 3
   },
   "file_extension": ".py",
   "mimetype": "text/x-python",
   "name": "python",
   "nbconvert_exporter": "python",
   "pygments_lexer": "ipython3",
   "version": "3.6.3"
  }
 },
 "nbformat": 4,
 "nbformat_minor": 2
}
